{
 "cells": [
  {
   "cell_type": "markdown",
   "id": "6bd615f3-0e28-4ea8-8878-49fd62d833cd",
   "metadata": {},
   "source": [
    "# Select the selection algorithms\n",
    "\n",
    "The idea here is that we can simplify the decision logic, reduce the binary size\n",
    "and speed up the compilation time by only including a subset of selection algorithms.\n",
    "We're aiming to get algorithms that perform well in different situations, and complement\n",
    "each other - so to do this, we're iteratively removing the worst performing algorithm,\n",
    "after which algorithms are re-evaluated on their speedups relative to the remaining\n",
    "algorithms. This gets us a minimum spanning set of selection algorithms that performs\n",
    "well over diverse inputs."
   ]
  },
  {
   "cell_type": "code",
   "execution_count": 1,
   "id": "fbf08b4e-7a91-4c4b-8320-ded040d3f827",
   "metadata": {
    "tags": []
   },
   "outputs": [
    {
     "data": {
      "text/html": [
       "<div>\n",
       "<style scoped>\n",
       "    .dataframe tbody tr th:only-of-type {\n",
       "        vertical-align: middle;\n",
       "    }\n",
       "\n",
       "    .dataframe tbody tr th {\n",
       "        vertical-align: top;\n",
       "    }\n",
       "\n",
       "    .dataframe thead th {\n",
       "        text-align: right;\n",
       "    }\n",
       "</style>\n",
       "<table border=\"1\" class=\"dataframe\">\n",
       "  <thead>\n",
       "    <tr style=\"text-align: right;\">\n",
       "      <th></th>\n",
       "      <th>key_type</th>\n",
       "      <th>index_type</th>\n",
       "      <th>algo</th>\n",
       "      <th>row</th>\n",
       "      <th>col</th>\n",
       "      <th>k</th>\n",
       "      <th>use_index_input</th>\n",
       "      <th>use_memory_pool</th>\n",
       "      <th>time</th>\n",
       "    </tr>\n",
       "  </thead>\n",
       "  <tbody>\n",
       "    <tr>\n",
       "      <th>0</th>\n",
       "      <td>double</td>\n",
       "      <td>int64_t</td>\n",
       "      <td>kRadix8bits</td>\n",
       "      <td>1</td>\n",
       "      <td>1024</td>\n",
       "      <td>1</td>\n",
       "      <td>0</td>\n",
       "      <td>0</td>\n",
       "      <td>0.000050</td>\n",
       "    </tr>\n",
       "    <tr>\n",
       "      <th>1</th>\n",
       "      <td>double</td>\n",
       "      <td>int64_t</td>\n",
       "      <td>kRadix11bits</td>\n",
       "      <td>1</td>\n",
       "      <td>1024</td>\n",
       "      <td>1</td>\n",
       "      <td>0</td>\n",
       "      <td>0</td>\n",
       "      <td>0.000033</td>\n",
       "    </tr>\n",
       "    <tr>\n",
       "      <th>2</th>\n",
       "      <td>double</td>\n",
       "      <td>int64_t</td>\n",
       "      <td>kRadix11bitsExtraPass</td>\n",
       "      <td>1</td>\n",
       "      <td>1024</td>\n",
       "      <td>1</td>\n",
       "      <td>0</td>\n",
       "      <td>0</td>\n",
       "      <td>0.000033</td>\n",
       "    </tr>\n",
       "    <tr>\n",
       "      <th>3</th>\n",
       "      <td>double</td>\n",
       "      <td>int64_t</td>\n",
       "      <td>kWarpImmediate</td>\n",
       "      <td>1</td>\n",
       "      <td>1024</td>\n",
       "      <td>1</td>\n",
       "      <td>0</td>\n",
       "      <td>0</td>\n",
       "      <td>0.000022</td>\n",
       "    </tr>\n",
       "    <tr>\n",
       "      <th>4</th>\n",
       "      <td>double</td>\n",
       "      <td>int64_t</td>\n",
       "      <td>kWarpFiltered</td>\n",
       "      <td>1</td>\n",
       "      <td>1024</td>\n",
       "      <td>1</td>\n",
       "      <td>0</td>\n",
       "      <td>0</td>\n",
       "      <td>0.000024</td>\n",
       "    </tr>\n",
       "    <tr>\n",
       "      <th>...</th>\n",
       "      <td>...</td>\n",
       "      <td>...</td>\n",
       "      <td>...</td>\n",
       "      <td>...</td>\n",
       "      <td>...</td>\n",
       "      <td>...</td>\n",
       "      <td>...</td>\n",
       "      <td>...</td>\n",
       "      <td>...</td>\n",
       "    </tr>\n",
       "    <tr>\n",
       "      <th>179963</th>\n",
       "      <td>float</td>\n",
       "      <td>uint32_t</td>\n",
       "      <td>kRadix11bits</td>\n",
       "      <td>1075</td>\n",
       "      <td>2042</td>\n",
       "      <td>8175</td>\n",
       "      <td>0</td>\n",
       "      <td>0</td>\n",
       "      <td>0.001018</td>\n",
       "    </tr>\n",
       "    <tr>\n",
       "      <th>179964</th>\n",
       "      <td>float</td>\n",
       "      <td>uint32_t</td>\n",
       "      <td>kRadix11bitsExtraPass</td>\n",
       "      <td>1075</td>\n",
       "      <td>2042</td>\n",
       "      <td>8175</td>\n",
       "      <td>0</td>\n",
       "      <td>0</td>\n",
       "      <td>0.001018</td>\n",
       "    </tr>\n",
       "    <tr>\n",
       "      <th>179965</th>\n",
       "      <td>float</td>\n",
       "      <td>uint32_t</td>\n",
       "      <td>kRadix8bits</td>\n",
       "      <td>1075</td>\n",
       "      <td>2042</td>\n",
       "      <td>8175</td>\n",
       "      <td>0</td>\n",
       "      <td>1</td>\n",
       "      <td>0.000059</td>\n",
       "    </tr>\n",
       "    <tr>\n",
       "      <th>179966</th>\n",
       "      <td>float</td>\n",
       "      <td>uint32_t</td>\n",
       "      <td>kRadix11bits</td>\n",
       "      <td>1075</td>\n",
       "      <td>2042</td>\n",
       "      <td>8175</td>\n",
       "      <td>0</td>\n",
       "      <td>1</td>\n",
       "      <td>0.000072</td>\n",
       "    </tr>\n",
       "    <tr>\n",
       "      <th>179967</th>\n",
       "      <td>float</td>\n",
       "      <td>uint32_t</td>\n",
       "      <td>kRadix11bitsExtraPass</td>\n",
       "      <td>1075</td>\n",
       "      <td>2042</td>\n",
       "      <td>8175</td>\n",
       "      <td>0</td>\n",
       "      <td>1</td>\n",
       "      <td>0.000072</td>\n",
       "    </tr>\n",
       "  </tbody>\n",
       "</table>\n",
       "<p>179968 rows × 9 columns</p>\n",
       "</div>"
      ],
      "text/plain": [
       "       key_type index_type                   algo   row   col     k  \\\n",
       "0        double    int64_t            kRadix8bits     1  1024     1   \n",
       "1        double    int64_t           kRadix11bits     1  1024     1   \n",
       "2        double    int64_t  kRadix11bitsExtraPass     1  1024     1   \n",
       "3        double    int64_t         kWarpImmediate     1  1024     1   \n",
       "4        double    int64_t          kWarpFiltered     1  1024     1   \n",
       "...         ...        ...                    ...   ...   ...   ...   \n",
       "179963    float   uint32_t           kRadix11bits  1075  2042  8175   \n",
       "179964    float   uint32_t  kRadix11bitsExtraPass  1075  2042  8175   \n",
       "179965    float   uint32_t            kRadix8bits  1075  2042  8175   \n",
       "179966    float   uint32_t           kRadix11bits  1075  2042  8175   \n",
       "179967    float   uint32_t  kRadix11bitsExtraPass  1075  2042  8175   \n",
       "\n",
       "        use_index_input  use_memory_pool      time  \n",
       "0                     0                0  0.000050  \n",
       "1                     0                0  0.000033  \n",
       "2                     0                0  0.000033  \n",
       "3                     0                0  0.000022  \n",
       "4                     0                0  0.000024  \n",
       "...                 ...              ...       ...  \n",
       "179963                0                0  0.001018  \n",
       "179964                0                0  0.001018  \n",
       "179965                0                1  0.000059  \n",
       "179966                0                1  0.000072  \n",
       "179967                0                1  0.000072  \n",
       "\n",
       "[179968 rows x 9 columns]"
      ]
     },
     "execution_count": 1,
     "metadata": {},
     "output_type": "execute_result"
    }
   ],
   "source": [
    "from select_k_dataset import load_dataframe, get_dataset\n",
    "\n",
    "df = load_dataframe(\"select_k_times.json\")\n",
    "df"
   ]
  },
  {
   "cell_type": "code",
   "execution_count": 2,
   "id": "c0d9fed5-35c3-4b0b-987a-973e93e0c59c",
   "metadata": {
    "tags": []
   },
   "outputs": [],
   "source": [
    "from collections import Counter\n",
    "\n",
    "def rank_algos(df, use_relative_speedup=False):\n",
    "    _, y, weights = get_dataset(df)\n",
    "    times = Counter()\n",
    "    for algo, speedup in zip(y, weights):\n",
    "        times[algo] += speedup if use_relative_speedup else 1\n",
    "    return sorted(times.items(), key=lambda x:-x[-1])"
   ]
  },
  {
   "cell_type": "code",
   "execution_count": 3,
   "id": "56c5dd8e-6f44-4ef3-b825-1d5a5d6698a2",
   "metadata": {
    "tags": []
   },
   "outputs": [
    {
     "data": {
      "text/plain": [
       "[('kRadix11bits', 7267),\n",
       " ('kWarpDistributedShm', 6861),\n",
       " ('kFaissBlockSelect', 3620),\n",
       " ('kRadix8bits', 3229),\n",
       " ('kWarpDistributed', 2619),\n",
       " ('kWarpImmediate', 2584),\n",
       " ('kRadix11bitsExtraPass', 2260),\n",
       " ('kWarpFiltered', 490)]"
      ]
     },
     "execution_count": 3,
     "metadata": {},
     "output_type": "execute_result"
    }
   ],
   "source": [
    "# show the number of times each algorithm is fastest for a given k/# of rows/# of cols / dtype / memory pool etc\n",
    "rank_algos(df)"
   ]
  },
  {
   "cell_type": "code",
   "execution_count": 7,
   "id": "ec63f794-0bdf-4afe-92a8-3fa8ab7a1648",
   "metadata": {
    "tags": []
   },
   "outputs": [
    {
     "data": {
      "text/plain": [
       "[('kRadix11bits', 3591),\n",
       " ('kWarpDistributedShm', 3589),\n",
       " ('kFaissBlockSelect', 2006),\n",
       " ('kWarpImmediate', 1552),\n",
       " ('kWarpDistributed', 1448),\n",
       " ('kRadix11bitsExtraPass', 1338),\n",
       " ('kRadix8bits', 460),\n",
       " ('kWarpFiltered', 290)]"
      ]
     },
     "execution_count": 7,
     "metadata": {},
     "output_type": "execute_result"
    }
   ],
   "source": [
    "# kRadix8bits seems to have a performance issue with 64 bit index types, it is one\n",
    "# of the worst performing algorithms for 64bit indices, but one of the top 3 for 32 bit\n",
    "rank_algos(df[df.index_type == \"int64_t\"])"
   ]
  },
  {
   "cell_type": "code",
   "execution_count": 8,
   "id": "9b7de19f-ddb6-4fa6-b423-db384428d701",
   "metadata": {
    "tags": []
   },
   "outputs": [
    {
     "data": {
      "text/plain": [
       "[('kRadix11bits', 3676),\n",
       " ('kWarpDistributedShm', 3272),\n",
       " ('kRadix8bits', 2769),\n",
       " ('kFaissBlockSelect', 1614),\n",
       " ('kWarpDistributed', 1171),\n",
       " ('kWarpImmediate', 1032),\n",
       " ('kRadix11bitsExtraPass', 922),\n",
       " ('kWarpFiltered', 200)]"
      ]
     },
     "execution_count": 8,
     "metadata": {},
     "output_type": "execute_result"
    }
   ],
   "source": [
    "rank_algos(df[df.index_type == \"uint32_t\"])"
   ]
  },
  {
   "cell_type": "code",
   "execution_count": 19,
   "id": "bc0a10ea-652b-4822-8587-514c8f0348c3",
   "metadata": {
    "tags": []
   },
   "outputs": [
    {
     "name": "stdout",
     "output_type": "stream",
     "text": [
      "selected {'kRadix11bits', 'kWarpDistributedShm', 'kFaissBlockSelect'}\n"
     ]
    },
    {
     "data": {
      "text/plain": [
       "[('kRadix11bits', 12736),\n",
       " ('kWarpDistributedShm', 12317),\n",
       " ('kFaissBlockSelect', 3877)]"
      ]
     },
     "execution_count": 19,
     "metadata": {},
     "output_type": "execute_result"
    }
   ],
   "source": [
    "# do an algorithm selection pass, repeatedly remove the lowest performing algorithm\n",
    "#\n",
    "# The idea here is that we can simplify the decision logic, reduce the binary size\n",
    "# and speed up the compilation time by only including a subset of selection algorithms.\n",
    "# we're aiming to get algorithms that perform well in different situations, and complement\n",
    "# each other - so to do this, we're iteratively removing the worst performing algorithm,\n",
    "# after which algorithms are re-evaluated on their speedups relative to the remaining\n",
    "# algorithms. This gets us a minimum spanning set of selection algorithms that performs\n",
    "# well over diverse inputs.\n",
    "#\n",
    "# note: the lowest performing algorithm here might actually be pretty good, but\n",
    "# just not provide much benefit over another similar algorithm. \n",
    "# As an example, kWarpDistributed  is an excellent selection algorithm, but in testing \n",
    "# kWarpDistributedShm is slightly faster than it in situations where it does well, \n",
    "# meaning that it gets removed early on in this loop\n",
    "current = df[df.use_memory_pool == True]\n",
    "algos = set(df.algo)\n",
    "\n",
    "# we're arbitrarily getting this down to 3 selection algorithms\n",
    "while len(algos) > 3:\n",
    "    times = rank_algos(current, use_relative_speedup=False)\n",
    "    algo, speedup = times[-1]\n",
    "    algos.remove(algo)\n",
    "    current = df[df.algo.isin(algos)]\n",
    "\n",
    "print(\"selected\", algos)\n",
    "rank_algos(current)"
   ]
  },
  {
   "cell_type": "code",
   "execution_count": null,
   "id": "028ebbb1-5289-4104-a13c-494c74742087",
   "metadata": {},
   "outputs": [],
   "source": [
    "# experimenting with different subsets of index type / dtype / use memory seems\n",
    "# to pretty consistently show that kRadix11bits / kWarpDistributedShm / kFaissBlockSelect\n",
    "# all get selected here"
   ]
  }
 ],
 "metadata": {
  "kernelspec": {
   "display_name": "Python 3 (ipykernel)",
   "language": "python",
   "name": "python3"
  },
  "language_info": {
   "codemirror_mode": {
    "name": "ipython",
    "version": 3
   },
   "file_extension": ".py",
   "mimetype": "text/x-python",
   "name": "python",
   "nbconvert_exporter": "python",
   "pygments_lexer": "ipython3",
   "version": "3.10.9"
  }
 },
 "nbformat": 4,
 "nbformat_minor": 5
}
