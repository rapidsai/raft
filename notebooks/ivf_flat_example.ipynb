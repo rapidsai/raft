{
 "cells": [
  {
   "cell_type": "markdown",
   "id": "4f49c5c4-1170-42a7-9d6a-b90acd00c3c3",
   "metadata": {},
   "source": [
    "# RAFT IVF Flat"
   ]
  },
  {
   "cell_type": "markdown",
   "id": "4bcfe810-f120-422c-b2bb-72cc43d0c4ca",
   "metadata": {},
   "source": [
    "## Introduction\n",
    "\n",
    "This notebook demonstrates how to run approximate nearest neighbor search using the IVF-Flat algorithm."
   ]
  },
  {
   "cell_type": "code",
   "execution_count": 37,
   "id": "fe73ada7-7b7f-4005-9440-85428194311b",
   "metadata": {},
   "outputs": [],
   "source": [
    "import os\n",
    "import cupy as cp\n",
    "import numpy as np\n",
    "from pylibraft.common import DeviceResources\n",
    "from pylibraft.neighbors import ivf_flat\n",
    "import time\n",
    "import matplotlib.pyplot as plt"
   ]
  },
  {
   "cell_type": "code",
   "execution_count": 2,
   "id": "5350e4d9-0993-406a-80af-29538b5677c2",
   "metadata": {},
   "outputs": [],
   "source": [
    "import rmm\n",
    "from rmm.allocators.cupy import rmm_cupy_allocator\n",
    "mr = rmm.mr.PoolMemoryResource(\n",
    "     rmm.mr.CudaMemoryResource(),\n",
    "     initial_pool_size=2**30\n",
    ")\n",
    "rmm.mr.set_current_device_resource(mr)\n",
    "cp.cuda.set_allocator(rmm_cupy_allocator)"
   ]
  },
  {
   "cell_type": "code",
   "execution_count": null,
   "id": "a5daa4b4-96de-4e74-bfd6-505b13595f62",
   "metadata": {},
   "outputs": [],
   "source": [
    "# Report the GPU in us\n",
    "!nvidia-smi"
   ]
  },
  {
   "cell_type": "markdown",
   "id": "104ef64f-7d98-4450-b04b-fcf498099b4b",
   "metadata": {},
   "source": [
    "### Utility functions"
   ]
  },
  {
   "cell_type": "code",
   "execution_count": 29,
   "id": "496fc8a6-139f-4b88-a2f4-a34357fd1712",
   "metadata": {},
   "outputs": [],
   "source": [
    "def memmap_bin_file(bin_file, dtype, shape=None):\n",
    "    if bin_file is None:\n",
    "        return None\n",
    "    a = np.memmap(bin_file, mode=\"r\", dtype=\"uint32\", shape=(2,))\n",
    "    if shape is None:\n",
    "        shape = (a[0], a[1])\n",
    "    # print('# {}: shape: {}, dtype: {}'.format(bin_file, shape, dtype))\n",
    "    return np.memmap(bin_file, mode=\"r\", dtype=dtype, offset=8, shape=shape)\n",
    "\n",
    "\n",
    "def calc_recall(ann_idx, true_nn_idx):\n",
    "    ann_idx = np.asarray(ann_idx)\n",
    "    if ann_idx.shape != true_nn_idx.shape:\n",
    "        raise RuntimeError(\n",
    "            \"Incompatible shapes {} vs {}\".format(ann_idx.shape, true_nn_idx.shape)\n",
    "        )\n",
    "    n = 0\n",
    "    for i in range(ann_idx.shape[0]):\n",
    "        n += np.intersect1d(ann_idx[i, :], true_nn_idx[i, :]).size\n",
    "    recall = n / ann_idx.size\n",
    "    return recall\n",
    "\n",
    "class BenchmarkTimer:\n",
    "    \"\"\"Provides a context manager that runs a code block `reps` times\n",
    "    and records results to the instance variable `timings`. Use like:\n",
    "    .. code-block:: python\n",
    "        timer = BenchmarkTimer(rep=5)\n",
    "        for _ in timer.benchmark_runs():\n",
    "            ... do something ...\n",
    "        print(np.min(timer.timings))\n",
    "\n",
    "        This class is part of the rapids/cuml benchmark suite\n",
    "    \"\"\"\n",
    "\n",
    "    def __init__(self, reps=1, warmup=0):\n",
    "        self.warmup = warmup\n",
    "        self.reps = reps\n",
    "        self.timings = []\n",
    "\n",
    "    def benchmark_runs(self):\n",
    "        for r in range(self.reps + self.warmup):\n",
    "            t0 = time.time()\n",
    "            yield r\n",
    "            t1 = time.time()\n",
    "            self.timings.append(t1 - t0)\n",
    "            if r >= self.warmup:\n",
    "                self.timings.append(t1 - t0)"
   ]
  },
  {
   "cell_type": "markdown",
   "id": "eee226b2-7110-42da-b022-385ee7462ed0",
   "metadata": {},
   "source": [
    "## Load dataset"
   ]
  },
  {
   "cell_type": "code",
   "execution_count": 4,
   "id": "ba75cbad-1bf0-4c07-b130-c34d4e51410f",
   "metadata": {},
   "outputs": [],
   "source": [
    "# TODO use a smaller dataset and dataset loader\n",
    "k = 10\n",
    "\n",
    "dtype=np.float32\n",
    "\n",
    "dataset_dirname = \"/workspace/rapids/gh/data/deep-1B\"\n",
    "\n",
    "dataset_filename = os.path.join(dataset_dirname, \"base.10M.fbin\")\n",
    "queries_filename = os.path.join(dataset_dirname, \"query.public.10K.fbin\")\n",
    "\n",
    "# groundthruth filenames\n",
    "dataset_dirname = \"/workspace/rapids/gh/data/deep-10M\"\n",
    "gt_indices_filename = os.path.join(dataset_dirname, \"groundtruth.neighbors.ibin\")\n",
    "gt_dist_filename = os.path.join(dataset_dirname, \"groundtruth.distances.fbin\")\n",
    "\n",
    "dataset_np = memmap_bin_file(dataset_filename, dtype)\n",
    "dataset = cp.asarray(dataset_np)\n",
    "\n",
    "n_samples = dataset.shape[0]\n",
    "n_features = dataset.shape[1]\n",
    "\n",
    "queries = np.asarray(memmap_bin_file(queries_filename, dtype))\n",
    "\n",
    "gt_indices_100 = memmap_bin_file(gt_indices_filename, dtype=np.int32)\n",
    "gt_distances_100 = memmap_bin_file(gt_dist_filename, dtype=np.float32)"
   ]
  },
  {
   "cell_type": "code",
   "execution_count": 5,
   "id": "61a4c327-800a-4b8d-a978-37ec80d4dfad",
   "metadata": {},
   "outputs": [
    {
     "name": "stdout",
     "output_type": "stream",
     "text": [
      "Dataset shape=(10000000,96), dtype=<class 'numpy.float32'>, size=   3.6 GiB\n"
     ]
    }
   ],
   "source": [
    "itemsize = np.dtype(dtype).itemsize \n",
    "total_size = n_samples * n_features * itemsize / (1<<30)\n",
    "print(\"Dataset shape=({0},{1}), dtype={2}, size={3:6.1f} GiB\".format(n_samples, n_features, dtype, total_size))"
   ]
  },
  {
   "cell_type": "code",
   "execution_count": 6,
   "id": "84ca624a-9ced-4083-9bdd-9438cfff16f4",
   "metadata": {},
   "outputs": [],
   "source": [
    "# we need only k columns from the groundthruth files\n",
    "gt_indices = np.asarray(gt_indices_100[:, :k])\n",
    "gt_distances = np.asarray(gt_distances_100[:, :k])"
   ]
  },
  {
   "cell_type": "markdown",
   "id": "9f463c50-d1d3-49be-bcfe-952602efa603",
   "metadata": {},
   "source": [
    "## Build index"
   ]
  },
  {
   "cell_type": "code",
   "execution_count": 7,
   "id": "737f8841-93f9-4c8e-b2e1-787d4474ef94",
   "metadata": {},
   "outputs": [
    {
     "name": "stdout",
     "output_type": "stream",
     "text": [
      "CPU times: user 315 ms, sys: 21.9 ms, total: 337 ms\n",
      "Wall time: 334 ms\n"
     ]
    }
   ],
   "source": [
    "%%time\n",
    "#handle = Handle()\n",
    "\n",
    "# see documentation https://github.com/rapidsai/raft/blob/082be6ecd4437d180bf34d5ba5d691a27b21141f/python/pylibraft/pylibraft/neighbors/ivf_flat/ivf_flat.pyx#L77-L124\n",
    "build_params = ivf_flat.IndexParams(\n",
    "        n_lists=1024,\n",
    "        metric=\"sqeuclidean\",\n",
    "        kmeans_trainset_fraction=0.1,\n",
    "        kmeans_n_iters=20,\n",
    "        add_data_on_build=True\n",
    "    )\n",
    "\n",
    "index = ivf_flat.build(build_params, dataset)#, handle=handle)"
   ]
  },
  {
   "cell_type": "markdown",
   "id": "a16a0cf6-3b05-4afd-9bb8-54431e0d7439",
   "metadata": {},
   "source": [
    "The index is built. We can print some basic information of the index"
   ]
  },
  {
   "cell_type": "code",
   "execution_count": 24,
   "id": "1aec7024-6e5d-4d2c-82e6-7b5734aec958",
   "metadata": {},
   "outputs": [
    {
     "name": "stdout",
     "output_type": "stream",
     "text": [
      "Index(type=IVF-FLAT, metric=sqeuclidean, size=10000000, dim=96, n_lists=1024, adaptive_centers=False)\n"
     ]
    }
   ],
   "source": [
    "print(index)"
   ]
  },
  {
   "cell_type": "markdown",
   "id": "df7d4958-56a3-48ea-bd64-3486fdb57fb7",
   "metadata": {},
   "source": [
    "## Search neighbors"
   ]
  },
  {
   "cell_type": "code",
   "execution_count": 8,
   "id": "ebfc0980-32a8-480e-bdc0-7a5472bbfb6b",
   "metadata": {},
   "outputs": [
    {
     "data": {
      "text/plain": [
       "(10000, 96)"
      ]
     },
     "execution_count": 8,
     "metadata": {},
     "output_type": "execute_result"
    }
   ],
   "source": [
    "queries.shape"
   ]
  },
  {
   "cell_type": "code",
   "execution_count": 9,
   "id": "46e0421b-9335-47a2-8451-a91f56c2f086",
   "metadata": {},
   "outputs": [],
   "source": [
    "handle = DeviceResources()"
   ]
  },
  {
   "cell_type": "code",
   "execution_count": 18,
   "id": "595454e1-7240-4b43-9a73-963d5670b00c",
   "metadata": {},
   "outputs": [
    {
     "name": "stdout",
     "output_type": "stream",
     "text": [
      "CPU times: user 386 ms, sys: 209 ms, total: 594 ms\n",
      "Wall time: 590 ms\n"
     ]
    }
   ],
   "source": [
    "%%time\n",
    "n_queries=10000\n",
    "handle = DeviceResources()\n",
    "# n_probes is the number of clusters we select in the first (coarse) search step. This is the only hyper parameter for search.\n",
    "search_params = ivf_flat.SearchParams(n_probes=50)\n",
    "\n",
    "# Search 10 nearest neighbors.\n",
    "distances, indices = ivf_flat.search(search_params, index, cp.asarray(queries[:n_queries,:]), k=10, handle=handle)\n",
    "    \n",
    "handle.sync()\n",
    "distances, neighbors = cp.asnumpy(distances), cp.asnumpy(indices)"
   ]
  },
  {
   "cell_type": "markdown",
   "id": "43d20ca7-7b9e-4046-bb52-640a2744db75",
   "metadata": {},
   "source": [
    "The returnad arrays have shappe {n_queries x 10] and store the distance values and the indices of the searched vectors."
   ]
  },
  {
   "cell_type": "code",
   "execution_count": 19,
   "id": "8cd9cd20-ca00-4a35-a0a0-86636521b31a",
   "metadata": {},
   "outputs": [
    {
     "data": {
      "text/plain": [
       "0.99419"
      ]
     },
     "execution_count": 19,
     "metadata": {},
     "output_type": "execute_result"
    }
   ],
   "source": [
    "calc_recall(neighbors, gt_indices)"
   ]
  },
  {
   "cell_type": "markdown",
   "id": "cde5079c-9777-45a1-9545-cffbcc59988f",
   "metadata": {},
   "source": [
    "## Save and load the index"
   ]
  },
  {
   "cell_type": "code",
   "execution_count": 20,
   "id": "bf94e45c-e7fb-4aa3-a611-ddaee7ac41ae",
   "metadata": {},
   "outputs": [],
   "source": [
    "ivf_flat.save(\"my_ivf_flat_index.bin\", index)"
   ]
  },
  {
   "cell_type": "code",
   "execution_count": 21,
   "id": "1622d9be-be41-4d25-be99-d348c5e54957",
   "metadata": {},
   "outputs": [],
   "source": [
    "index = ivf_flat.load(\"my_ivf_flat_index.bin\")"
   ]
  },
  {
   "cell_type": "markdown",
   "id": "15d503e5-05e8-47ce-8501-e13fc512099c",
   "metadata": {},
   "source": [
    "## Tune search parameters\n",
    "Search has a single hyper parameter: n_probes, which describes how many neighboring cluster is searched (probed) for each query. Within a probed cluster, we compute the distance between all the vectors in the cluster and the query point, and select the top-k neighbors. Finally, we consider all the neighbor candidates from the probed clusters, and select top-k out of them."
   ]
  },
  {
   "cell_type": "code",
   "execution_count": 22,
   "id": "07b89052-c41d-464e-9cd3-cf1f1fb16b32",
   "metadata": {},
   "outputs": [
    {
     "name": "stdout",
     "output_type": "stream",
     "text": [
      "Index(type=IVF-FLAT, metric=sqeuclidean, size=10000000, dim=96, n_lists=1024, adaptive_centers=False)\n"
     ]
    }
   ],
   "source": []
  },
  {
   "cell_type": "code",
   "execution_count": 42,
   "id": "ace0c31f-af75-4352-a438-123a9a03612c",
   "metadata": {},
   "outputs": [
    {
     "name": "stdout",
     "output_type": "stream",
     "text": [
      "\n",
      "Benchmarking search with n_probes= 10\n",
      "recall 0.93047\n",
      "Average search time:   0.081 +/-  0.0559 s\n",
      "Queries per second (QPS):   123637\n",
      "\n",
      "Benchmarking search with n_probes= 50\n",
      "recall 0.99419\n",
      "Average search time:   0.391 +/-   0.276 s\n",
      "Queries per second (QPS):    25587\n",
      "\n",
      "Benchmarking search with n_probes= 100\n",
      "recall 0.99842\n",
      "Average search time:   0.774 +/-   0.546 s\n",
      "Queries per second (QPS):    12927\n",
      "\n",
      "Benchmarking search with n_probes= 200\n",
      "recall 0.99941\n",
      "Average search time:   1.521 +/-    1.07 s\n",
      "Queries per second (QPS):     6575\n",
      "\n",
      "Benchmarking search with n_probes= 500\n",
      "recall 0.99956\n",
      "Average search time:   3.756 +/-    2.66 s\n",
      "Queries per second (QPS):     2662\n",
      "\n",
      "Benchmarking search with n_probes= 1000\n",
      "recall 0.99957\n",
      "Average search time:   6.897 +/-    4.88 s\n",
      "Queries per second (QPS):     1450\n"
     ]
    }
   ],
   "source": [
    "n_probes = np.asarray([10, 50, 100, 200, 500, 1000]);\n",
    "qps = np.zeros(n_probes.shape);\n",
    "recall = np.zeros(n_probes.shape);\n",
    "\n",
    "for i in range(len(n_probes)):\n",
    "    print(\"\\nBenchmarking search with n_probes=\", n_probes[i])\n",
    "    timer = BenchmarkTimer(reps=1, warmup=1)\n",
    "    for rep in timer.benchmark_runs():\n",
    "        distances, neighbors = ivf_flat.search(\n",
    "            ivf_flat.SearchParams(n_probes=n_probes[i]),\n",
    "            index,\n",
    "            cp.asarray(queries),\n",
    "            k,\n",
    "            handle=handle,\n",
    "        )\n",
    "    \n",
    "    recall[i] = calc_recall(cp.asnumpy(neighbors), gt_indices)\n",
    "    print(\"recall\", recall[i])\n",
    "\n",
    "    timings = np.asarray(timer.timings)\n",
    "    avg_time = timings.mean()\n",
    "    std_time = timings.std()\n",
    "    qps[i] = queries.shape[0] / avg_time\n",
    "    print(\"Average search time: {0:7.3f} +/- {1:7.3} s\".format(avg_time, std_time))\n",
    "    print(\"Queries per second (QPS): {0:8.0f}\".format(qps[i]))"
   ]
  },
  {
   "cell_type": "code",
   "execution_count": 53,
   "id": "e1ac370f-91c8-4054-95c7-a749df5f16d2",
   "metadata": {},
   "outputs": [
    {
     "data": {
      "image/png": "[encoded data removed]",
      "text/plain": [
       "<Figure size 1200x300 with 3 Axes>"
      ]
     },
     "metadata": {},
     "output_type": "display_data"
    }
   ],
   "source": [
    "fig = plt.figure(figsize=(12,3))\n",
    "ax = fig.add_subplot(131)\n",
    "ax.plot(n_probes, recall,'o-')\n",
    "#ax.set_xticks(bench_k, bench_k)\n",
    "ax.set_xlabel('n_probes')\n",
    "ax.grid()\n",
    "ax.set_ylabel('recall (@k=10)')\n",
    "\n",
    "ax = fig.add_subplot(132)\n",
    "ax.plot(n_probes, qps,'o-')\n",
    "#ax.set_xticks(bench_k, bench_k)\n",
    "ax.set_xlabel('n_probes')\n",
    "ax.grid()\n",
    "ax.set_ylabel('queries per second');\n",
    "\n",
    "ax = fig.add_subplot(133)\n",
    "ax.plot(recall, qps,'o-')\n",
    "#ax.set_xticks(bench_k, bench_k)\n",
    "ax.set_xlabel('recall')\n",
    "ax.grid()\n",
    "ax.set_ylabel('queries per second');\n",
    "#ax.set_yscale('log')"
   ]
  },
  {
   "cell_type": "markdown",
   "id": "81e7ad6a-bddc-45de-9cce-0fb913f91efe",
   "metadata": {},
   "source": [
    "## Adjust build parameters\n",
    "### n_clusters"
   ]
  },
  {
   "cell_type": "code",
   "execution_count": null,
   "id": "addbfff3-7773-4290-9608-5489edf4886d",
   "metadata": {},
   "outputs": [],
   "source": []
  },
  {
   "cell_type": "markdown",
   "id": "0c44800f-1e9e-4f7b-87fe-0f25e6590faa",
   "metadata": {},
   "source": [
    "### trainset fraction"
   ]
  },
  {
   "cell_type": "markdown",
   "id": "f9d343c8-a295-4f31-8a3a-3ead9d26f50f",
   "metadata": {},
   "source": []
  },
  {
   "cell_type": "markdown",
   "id": "25289ebc-7d89-4fa6-bc62-e25b6e77750c",
   "metadata": {},
   "source": [
    "### add vectors on build\n",
    "Currently we cannot configure how RAFT sub-samples the input. If we want to have a fine control on how we select the training set, then we can create the index in two steps:\n",
    "1. Define cluster centers on a training set, but do not add any vector to the index\n",
    "2. add vectors to the index (extend)\n",
    "\n",
    "- The second step is familiar for faiss users.\n",
    "- Note that raft does not require adding the data in batches. We do internal batching. If the user prefers, can use your own batching.\n",
    "- We have an option in controlling whether the cluster centers should be recalculated.\n"
   ]
  },
  {
   "cell_type": "code",
   "execution_count": 54,
   "id": "7ebcf970-94ed-4825-9885-277bd984b90c",
   "metadata": {},
   "outputs": [
    {
     "data": {
      "text/plain": [
       "Index(type=IVF-FLAT, metric=sqeuclidean, size=10000000, dim=96, n_lists=1024, adaptive_centers=False)"
      ]
     },
     "execution_count": 54,
     "metadata": {},
     "output_type": "execute_result"
    }
   ],
   "source": [
    "build_params = ivf_flat.IndexParams(\n",
    "        n_lists=1024,\n",
    "        metric=\"sqeuclidean\",\n",
    "        kmeans_trainset_fraction=1,\n",
    "        kmeans_n_iters=20,\n",
    "        add_data_on_build=False\n",
    "    )\n",
    "\n",
    "n_train = 10000\n",
    "train_set = dataset[cp.random.choice(dataset.shape[0], n_train, replace=False),:]\n",
    "index = ivf_flat.build(build_params, train_set)\n",
    "ivf_flat.extend(index, dataset, cp.arange(dataset.shape[0], dtype=cp.int64))"
   ]
  },
  {
   "cell_type": "code",
   "execution_count": 55,
   "id": "42c70329-1a35-4d11-8688-087de8a637c1",
   "metadata": {},
   "outputs": [
    {
     "data": {
      "text/plain": [
       "10000000"
      ]
     },
     "execution_count": 55,
     "metadata": {},
     "output_type": "execute_result"
    }
   ],
   "source": [
    "index.size"
   ]
  },
  {
   "cell_type": "code",
   "execution_count": null,
   "id": "029d48a9-baf7-4263-af43-9e500ef3cce4",
   "metadata": {},
   "outputs": [],
   "source": []
  }
 ],
 "metadata": {
  "kernelspec": {
   "display_name": "Python 3 (ipykernel)",
   "language": "python",
   "name": "python3"
  },
  "language_info": {
   "codemirror_mode": {
    "name": "ipython",
    "version": 3
   },
   "file_extension": ".py",
   "mimetype": "text/x-python",
   "name": "python",
   "nbconvert_exporter": "python",
   "pygments_lexer": "ipython3",
   "version": "3.10.11"
  }
 },
 "nbformat": 4,
 "nbformat_minor": 5
}
